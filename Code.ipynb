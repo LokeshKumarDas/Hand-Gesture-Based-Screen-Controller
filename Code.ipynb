{
 "cells": [
  {
   "cell_type": "markdown",
   "metadata": {},
   "source": [
    "Importing Libraries"
   ]
  },
  {
   "cell_type": "code",
   "execution_count": 1,
   "metadata": {},
   "outputs": [],
   "source": [
    "import cv2\n",
    "import os \n",
    "from cvzone.HandTrackingModule import HandDetector\n",
    "import numpy as np\n",
    "import pyautogui\n",
    "import time\n"
   ]
  },
  {
   "cell_type": "markdown",
   "metadata": {},
   "source": [
    "Main Code "
   ]
  },
  {
   "cell_type": "code",
   "execution_count": 3,
   "metadata": {},
   "outputs": [],
   "source": [
    "# calculating width and height of screen\n",
    "width, height = pyautogui.size()\n",
    "w = []\n",
    "\n",
    "cap = cv2.VideoCapture(0)\n",
    "cap.set(3, width)\n",
    "cap.set(4, height)\n",
    "\n",
    "# initialize HandDetector to detect 1 hand with 80% accuracy\n",
    "detector = HandDetector(detectionCon=0.8, maxHands=1)\n",
    "\n",
    "dragging = False  # Variable to track dragging state\n",
    "\n",
    "while True:\n",
    "    # reading image\n",
    "    success, img = cap.read()\n",
    "    img = cv2.flip(img, 1)\n",
    "    \n",
    "    hands, img = detector.findHands(img)\n",
    "    if hands:\n",
    "        hand = hands[0]\n",
    "        fingers = detector.fingersUp(hand)\n",
    "        lmlist = hand['lmList']\n",
    "        \n",
    "        # Map the hand's position to the screen\n",
    "        xVal = int(np.interp(lmlist[8][0], [0, width], [-1 * width, width * 3.5]))\n",
    "        yVal = int(np.interp(lmlist[8][1], [height / 4, height], [0, height * 3.5]))\n",
    "\n",
    "        # Gesture to start dragging (e.g., closed fist)\n",
    "        if fingers == [0, 0, 0, 0, 0]:  # Closed fist gesture\n",
    "            if not dragging:  # Start dragging if not already dragging\n",
    "                pyautogui.mouseDown(x=xVal, y=yVal)  # Press down the mouse button\n",
    "                dragging = True  # Set dragging state to true\n",
    "                \n",
    "        elif fingers == [1, 1, 1, 1, 1]:  # Open hand gesture to stop dragging\n",
    "            if dragging:  # Stop dragging if already dragging\n",
    "                pyautogui.mouseUp()  # Release the mouse button\n",
    "                dragging = False  # Reset dragging state\n",
    "        \n",
    "        # If dragging, move the mouse\n",
    "        if dragging:\n",
    "            pyautogui.moveTo(xVal, yVal)  # Continuously move to the hand position\n",
    "            \n",
    "        else:\n",
    "            # Gesture to move cursor (e.g., index finger up)\n",
    "            if fingers == [0, 1, 0, 0, 0]:  # Index finger up\n",
    "                pyautogui.moveTo(xVal, yVal)  # Move cursor\n",
    "                \n",
    "            elif fingers == [1, 1, 0, 0, 0]:  # Gesture for left click, Index finger and thumbs up\n",
    "                pyautogui.click()\n",
    "                time.sleep(0.7)\n",
    "                \n",
    "            elif fingers == [0, 1, 1, 0, 0]:  # Gesture for right click, 2 fingers up\n",
    "                pyautogui.rightClick()\n",
    "                time.sleep(0.7)\n",
    "                \n",
    "            elif fingers == [0, 1, 1, 1, 0]:  # Gesture for double click, 3 fingers up\n",
    "                pyautogui.doubleClick()\n",
    "                time.sleep(0.5)\n",
    "    \n",
    "    # show the image captured\n",
    "    img = cv2.resize(img, (width, height))\n",
    "    cv2.imshow('Slides', img)\n",
    "    \n",
    "    key = cv2.waitKey(1)\n",
    "    if key == ord('q'):  # press q key to quit\n",
    "        w.append(lmlist)\n",
    "        cv2.destroyAllWindows()\n",
    "        break\n"
   ]
  }
 ],
 "metadata": {
  "kernelspec": {
   "display_name": "Python 3",
   "language": "python",
   "name": "python3"
  },
  "language_info": {
   "codemirror_mode": {
    "name": "ipython",
    "version": 3
   },
   "file_extension": ".py",
   "mimetype": "text/x-python",
   "name": "python",
   "nbconvert_exporter": "python",
   "pygments_lexer": "ipython3",
   "version": "3.11.0"
  }
 },
 "nbformat": 4,
 "nbformat_minor": 2
}
